{
  "nbformat": 4,
  "nbformat_minor": 0,
  "metadata": {
    "colab": {
      "provenance": [],
      "include_colab_link": true
    },
    "kernelspec": {
      "name": "python3",
      "display_name": "Python 3"
    },
    "language_info": {
      "name": "python"
    }
  },
  "cells": [
    {
      "cell_type": "markdown",
      "metadata": {
        "id": "view-in-github",
        "colab_type": "text"
      },
      "source": [
        "<a href=\"https://colab.research.google.com/github/olgakargan/-.ipynb-/blob/master/%22%D0%91%D0%BB%D0%B8%D1%86_%D1%82%D0%B5%D1%81%D1%82_pandas_ipynb%22.ipynb\" target=\"_parent\"><img src=\"https://colab.research.google.com/assets/colab-badge.svg\" alt=\"Open In Colab\"/></a>"
      ]
    },
    {
      "cell_type": "markdown",
      "source": [
        "Загрузка данных"
      ],
      "metadata": {
        "id": "QMVhcFYRBeIs"
      }
    },
    {
      "cell_type": "code",
      "source": [
        "!wget https://gist.githubusercontent.com/andron23/0675d643fe001b08a66271402a7b609b/raw/231deb6c35c43ca9089b197d94d7d48e093bfb06/sales_data.csv"
      ],
      "metadata": {
        "id": "vj4zXRL3BgBY",
        "colab": {
          "base_uri": "https://localhost:8080/"
        },
        "outputId": "67e0b828-8e1f-4f11-a61b-5a7ba499efb1"
      },
      "execution_count": null,
      "outputs": [
        {
          "output_type": "stream",
          "name": "stdout",
          "text": [
            "--2023-09-05 08:55:02--  https://gist.githubusercontent.com/andron23/0675d643fe001b08a66271402a7b609b/raw/231deb6c35c43ca9089b197d94d7d48e093bfb06/sales_data.csv\n",
            "Resolving gist.githubusercontent.com (gist.githubusercontent.com)... 185.199.108.133, 185.199.109.133, 185.199.110.133, ...\n",
            "Connecting to gist.githubusercontent.com (gist.githubusercontent.com)|185.199.108.133|:443... connected.\n",
            "HTTP request sent, awaiting response... 200 OK\n",
            "Length: 2336 (2.3K) [text/plain]\n",
            "Saving to: ‘sales_data.csv’\n",
            "\n",
            "sales_data.csv      100%[===================>]   2.28K  --.-KB/s    in 0s      \n",
            "\n",
            "2023-09-05 08:55:02 (38.5 MB/s) - ‘sales_data.csv’ saved [2336/2336]\n",
            "\n"
          ]
        }
      ]
    },
    {
      "cell_type": "code",
      "source": [
        "!wget https://gist.githubusercontent.com/andron23/fc2b28de07d5017f951c559f51fcb286/raw/be9f8cd81b28f3c19d314ef908aa68e9f41ae975/products_data.csv"
      ],
      "metadata": {
        "id": "NFBLcMDUBxG0",
        "colab": {
          "base_uri": "https://localhost:8080/"
        },
        "outputId": "63913a96-d237-4007-cedc-e93c3971a382"
      },
      "execution_count": null,
      "outputs": [
        {
          "output_type": "stream",
          "name": "stdout",
          "text": [
            "--2023-09-05 08:55:02--  https://gist.githubusercontent.com/andron23/fc2b28de07d5017f951c559f51fcb286/raw/be9f8cd81b28f3c19d314ef908aa68e9f41ae975/products_data.csv\n",
            "Resolving gist.githubusercontent.com (gist.githubusercontent.com)... 185.199.108.133, 185.199.109.133, 185.199.110.133, ...\n",
            "Connecting to gist.githubusercontent.com (gist.githubusercontent.com)|185.199.108.133|:443... connected.\n",
            "HTTP request sent, awaiting response... 200 OK\n",
            "Length: 1793 (1.8K) [text/plain]\n",
            "Saving to: ‘products_data.csv’\n",
            "\n",
            "products_data.csv   100%[===================>]   1.75K  --.-KB/s    in 0s      \n",
            "\n",
            "2023-09-05 08:55:03 (30.8 MB/s) - ‘products_data.csv’ saved [1793/1793]\n",
            "\n"
          ]
        }
      ]
    },
    {
      "cell_type": "code",
      "execution_count": null,
      "metadata": {
        "id": "BfFWbZdK6sf4"
      },
      "outputs": [],
      "source": [
        "import pandas as pd\n",
        "import numpy as np\n",
        "from datetime import datetime, timedelta\n",
        "\n",
        "sales_data = pd.read_csv('sales_data.csv')\n",
        "products_data = pd.read_csv('products_data.csv')\n",
        "\n",
        "sales_data['order_date'] = pd.to_datetime(sales_data['order_date'])"
      ]
    },
    {
      "cell_type": "markdown",
      "source": [
        "1"
      ],
      "metadata": {
        "id": "geXP1fRy-yvP"
      }
    },
    {
      "cell_type": "code",
      "source": [
        "merged_data = sales_data.merge(products_data, on='product_id')\n",
        "\n",
        "smartphones_data = merged_data[merged_data['category'] == 'Смартфоны']\n",
        "\n",
        "region_with_most_smartphone_sales = smartphones_data.groupby('region')['quantity'].sum().idxmax()\n",
        "region_with_most_smartphone_sales"
      ],
      "metadata": {
        "colab": {
          "base_uri": "https://localhost:8080/",
          "height": 35
        },
        "id": "wWEx1bre7AKA",
        "outputId": "de367344-1314-46b9-c9d0-d6989c4873ec"
      },
      "execution_count": null,
      "outputs": [
        {
          "output_type": "execute_result",
          "data": {
            "text/plain": [
              "'Восток'"
            ],
            "application/vnd.google.colaboratory.intrinsic+json": {
              "type": "string"
            }
          },
          "metadata": {},
          "execution_count": 48
        }
      ]
    },
    {
      "cell_type": "markdown",
      "source": [
        "2"
      ],
      "metadata": {
        "id": "3KZPt_I2-zM7"
      }
    },
    {
      "cell_type": "code",
      "source": [
        "merged_data = sales_data.merge(products_data, on='product_id')\n",
        "\n",
        "laptops_data = merged_data[merged_data['category'] == 'Ноутбуки']\n",
        "\n",
        "manufacturer_avg_price = laptops_data.groupby('manufacturer')['price_per_unit'].mean()\n",
        "round(max(manufacturer_avg_price) - min(manufacturer_avg_price))"
      ],
      "metadata": {
        "colab": {
          "base_uri": "https://localhost:8080/"
        },
        "id": "XNulM8If77Xa",
        "outputId": "e5985ada-b5ea-4e10-b1da-2cd1fd756792"
      },
      "execution_count": null,
      "outputs": [
        {
          "output_type": "execute_result",
          "data": {
            "text/plain": [
              "200"
            ]
          },
          "metadata": {},
          "execution_count": 67
        }
      ]
    },
    {
      "cell_type": "markdown",
      "source": [
        "3"
      ],
      "metadata": {
        "id": "tgk72-Oy-3Be"
      }
    },
    {
      "cell_type": "code",
      "source": [
        "customer_total_spending = sales_data.groupby('customer_id')['total_price'].sum()\n",
        "\n",
        "top_spending_customer = customer_total_spending.idxmax()\n",
        "top_spending_customer"
      ],
      "metadata": {
        "colab": {
          "base_uri": "https://localhost:8080/"
        },
        "id": "WCTs7D9m8MTg",
        "outputId": "8e3183ca-8136-4304-84b3-8857679e27f9"
      },
      "execution_count": null,
      "outputs": [
        {
          "output_type": "execute_result",
          "data": {
            "text/plain": [
              "1003"
            ]
          },
          "metadata": {},
          "execution_count": 50
        }
      ]
    },
    {
      "cell_type": "markdown",
      "source": [
        "4"
      ],
      "metadata": {
        "id": "_ZYKLiUr-7Pv"
      }
    },
    {
      "cell_type": "code",
      "source": [
        "merged_data = sales_data.merge(products_data, on='product_id')\n",
        "\n",
        "tablets_data = merged_data[merged_data['category'] == 'Планшеты']\n",
        "\n",
        "tablets_revenue_ratio = tablets_data['total_price'].sum() / merged_data['total_price'].sum()\n",
        "tablets_revenue_ratio"
      ],
      "metadata": {
        "colab": {
          "base_uri": "https://localhost:8080/"
        },
        "id": "frfeOntz8OLE",
        "outputId": "54e45885-4660-427b-cd3f-55e34b9f6260"
      },
      "execution_count": null,
      "outputs": [
        {
          "output_type": "execute_result",
          "data": {
            "text/plain": [
              "0.24848484848484848"
            ]
          },
          "metadata": {},
          "execution_count": 51
        }
      ]
    },
    {
      "cell_type": "markdown",
      "source": [
        "5"
      ],
      "metadata": {
        "id": "qUYBAOD6_CVt"
      }
    },
    {
      "cell_type": "code",
      "source": [
        "merged_data = sales_data.merge(products_data, on='product_id')\n",
        "\n",
        "region_revenue = merged_data.groupby('region')['total_price'].sum()\n",
        "\n",
        "top_2_regions = region_revenue.nlargest(2)\n",
        "\n",
        "top_regions_smartphones = merged_data[(merged_data['region'].isin(top_2_regions.index)) & (merged_data['category'] == 'Смартфоны')]\n",
        "\n",
        "avg_price_by_region = top_regions_smartphones.groupby('region')['price_per_unit'].mean()\n",
        "\n",
        "price_difference = avg_price_by_region.diff().abs().iloc[-1]\n",
        "price_difference"
      ],
      "metadata": {
        "colab": {
          "base_uri": "https://localhost:8080/"
        },
        "id": "G1do9v9k8QFv",
        "outputId": "4ee50227-d14c-41e1-cc0f-ba9fb378ccf1"
      },
      "execution_count": null,
      "outputs": [
        {
          "output_type": "execute_result",
          "data": {
            "text/plain": [
              "275.0"
            ]
          },
          "metadata": {},
          "execution_count": 52
        }
      ]
    },
    {
      "cell_type": "markdown",
      "source": [
        "6"
      ],
      "metadata": {
        "id": "N0rAp7Z3_Kyo"
      }
    },
    {
      "cell_type": "code",
      "source": [
        "merged_data = sales_data.merge(products_data, on='product_id')\n",
        "\n",
        "unique_categories_per_region = merged_data.groupby('region')['category'].nunique()\n",
        "unique_categories_per_region.mean()"
      ],
      "metadata": {
        "colab": {
          "base_uri": "https://localhost:8080/"
        },
        "id": "oYZZ2VB38Wsl",
        "outputId": "1b3e1baa-4cb7-4da2-e98a-3406df6f36be"
      },
      "execution_count": null,
      "outputs": [
        {
          "output_type": "execute_result",
          "data": {
            "text/plain": [
              "5.0"
            ]
          },
          "metadata": {},
          "execution_count": 68
        }
      ]
    },
    {
      "cell_type": "markdown",
      "source": [
        "7"
      ],
      "metadata": {
        "id": "nPEn8uRS_0Kw"
      }
    },
    {
      "cell_type": "code",
      "source": [
        "merged_data = sales_data.merge(products_data, on='product_id')\n",
        "\n",
        "manufacturer_unique_categories = merged_data.groupby('manufacturer')['category'].nunique()\n",
        "\n",
        "manufacturer_with_most_unique_categories = manufacturer_unique_categories.idxmax()\n",
        "manufacturer_with_most_unique_categories"
      ],
      "metadata": {
        "colab": {
          "base_uri": "https://localhost:8080/",
          "height": 35
        },
        "id": "6ttAxlN88vsa",
        "outputId": "e32c136c-e17e-4c1c-9ba2-6c3ccf7a0be7"
      },
      "execution_count": null,
      "outputs": [
        {
          "output_type": "execute_result",
          "data": {
            "text/plain": [
              "'E'"
            ],
            "application/vnd.google.colaboratory.intrinsic+json": {
              "type": "string"
            }
          },
          "metadata": {},
          "execution_count": 56
        }
      ]
    },
    {
      "cell_type": "markdown",
      "source": [
        "8"
      ],
      "metadata": {
        "id": "RgZMu4qR_8UL"
      }
    },
    {
      "cell_type": "code",
      "source": [
        "merged_data = sales_data.merge(products_data, on='product_id')\n",
        "\n",
        "north_tablets_data = merged_data[(merged_data['category'] == 'Планшеты') & (merged_data['region'] == 'Север')]\n",
        "\n",
        "north_tablets_data['month'] = north_tablets_data['order_date'].dt.month\n",
        "\n",
        "month_with_most_north_tablet_sales = north_tablets_data.groupby('month')['quantity'].sum().idxmax()\n",
        "month_with_most_north_tablet_sales"
      ],
      "metadata": {
        "colab": {
          "base_uri": "https://localhost:8080/"
        },
        "id": "Zb84-4Vr9AaC",
        "outputId": "c01d0817-b2e3-4aca-dd0f-5c94b94ca244"
      },
      "execution_count": null,
      "outputs": [
        {
          "output_type": "stream",
          "name": "stderr",
          "text": [
            "<ipython-input-58-d1a93cb4f042>:8: SettingWithCopyWarning: \n",
            "A value is trying to be set on a copy of a slice from a DataFrame.\n",
            "Try using .loc[row_indexer,col_indexer] = value instead\n",
            "\n",
            "See the caveats in the documentation: https://pandas.pydata.org/pandas-docs/stable/user_guide/indexing.html#returning-a-view-versus-a-copy\n",
            "  north_tablets_data['month'] = north_tablets_data['order_date'].dt.month\n"
          ]
        },
        {
          "output_type": "execute_result",
          "data": {
            "text/plain": [
              "8"
            ]
          },
          "metadata": {},
          "execution_count": 58
        }
      ]
    },
    {
      "cell_type": "markdown",
      "source": [
        "9"
      ],
      "metadata": {
        "id": "fXQv140d__Hh"
      }
    },
    {
      "cell_type": "code",
      "source": [
        "merged_data = sales_data.merge(products_data, on='product_id')\n",
        "\n",
        "south_march_2023_data = merged_data[(merged_data['region'] == 'Юг') & (merged_data['order_date'].dt.month == 3) & (merged_data['order_date'].dt.year == 2023)]\n",
        "\n",
        "manufacturer_revenue_south_march_2023 = south_march_2023_data.groupby('manufacturer')['total_price'].sum()\n",
        "\n",
        "manufacturer_with_highest_revenue = manufacturer_revenue_south_march_2023.idxmax()\n",
        "manufacturer_with_highest_revenue"
      ],
      "metadata": {
        "colab": {
          "base_uri": "https://localhost:8080/",
          "height": 35
        },
        "id": "5c3zSuxk9IWu",
        "outputId": "147f0d06-6a88-48c5-a636-c97b44458f8f"
      },
      "execution_count": null,
      "outputs": [
        {
          "output_type": "execute_result",
          "data": {
            "text/plain": [
              "'B'"
            ],
            "application/vnd.google.colaboratory.intrinsic+json": {
              "type": "string"
            }
          },
          "metadata": {},
          "execution_count": 60
        }
      ]
    },
    {
      "cell_type": "markdown",
      "source": [
        "10"
      ],
      "metadata": {
        "id": "A_wYiw5MAFrg"
      }
    },
    {
      "cell_type": "code",
      "source": [
        "merged_data = sales_data.merge(products_data, on='product_id')\n",
        "\n",
        "customer_unique_categories = merged_data.groupby('customer_id')['category'].nunique()\n",
        "\n",
        "customers_with_multiple_categories = customer_unique_categories[customer_unique_categories >= 3]\n",
        "\n",
        "num_customers_with_multiple_categories = len(customers_with_multiple_categories)\n",
        "num_customers_with_multiple_categories"
      ],
      "metadata": {
        "colab": {
          "base_uri": "https://localhost:8080/"
        },
        "id": "rLy8iOvF9KSn",
        "outputId": "d036562d-667b-442d-aa16-9d7078fee1f9"
      },
      "execution_count": null,
      "outputs": [
        {
          "output_type": "execute_result",
          "data": {
            "text/plain": [
              "1"
            ]
          },
          "metadata": {},
          "execution_count": 61
        }
      ]
    },
    {
      "cell_type": "markdown",
      "source": [
        "11"
      ],
      "metadata": {
        "id": "ReQjtq9EAJ7g"
      }
    },
    {
      "cell_type": "code",
      "source": [
        "merged_data = sales_data.merge(products_data, on='product_id')\n",
        "\n",
        "manufacturer_c_north_data = merged_data[(merged_data['manufacturer'] == 'C') & (merged_data['region'] == 'Север')]\n",
        "\n",
        "revenue_ratio_manufacturer_c_north = manufacturer_c_north_data['total_price'].sum() / merged_data[merged_data['region'] == 'Север']['total_price'].sum()\n",
        "revenue_ratio_manufacturer_c_north"
      ],
      "metadata": {
        "colab": {
          "base_uri": "https://localhost:8080/"
        },
        "id": "jUA6g_BI9RrQ",
        "outputId": "f67c6c6d-d4fc-49e4-f7ca-e8ea7232bf46"
      },
      "execution_count": null,
      "outputs": [
        {
          "output_type": "execute_result",
          "data": {
            "text/plain": [
              "0.26811594202898553"
            ]
          },
          "metadata": {},
          "execution_count": 62
        }
      ]
    },
    {
      "cell_type": "markdown",
      "source": [
        "12"
      ],
      "metadata": {
        "id": "yzq5JwquAUB7"
      }
    },
    {
      "cell_type": "code",
      "source": [
        "merged_data = sales_data.merge(products_data, on='product_id')\n",
        "\n",
        "total_manufactures = int(merged_data.groupby(['category', 'manufacturer'])['manufacturer'].agg({'nunique'}).sum())\n",
        "\n",
        "unique_manufacturers_per_customer = merged_data.groupby(['customer_id', 'category', 'manufacturer'])['manufacturer'].agg({'nunique'})\n",
        "\n",
        "percent_from_total = unique_manufacturers_per_customer.groupby('customer_id').sum().apply(lambda x: x / total_manufactures).reset_index()\n",
        "\n",
        "customers_with_more_than_15 = percent_from_total[percent_from_total['nunique'] > 0.15]\n",
        "\n",
        "customers_with_more_than_15['customer_id'].tolist()"
      ],
      "metadata": {
        "colab": {
          "base_uri": "https://localhost:8080/"
        },
        "id": "hDR_Z6dMAgBo",
        "outputId": "fa3e2dcf-9d2b-4ee3-d59c-d13a5edb5597"
      },
      "execution_count": null,
      "outputs": [
        {
          "output_type": "execute_result",
          "data": {
            "text/plain": [
              "[1001, 1003]"
            ]
          },
          "metadata": {},
          "execution_count": 48
        }
      ]
    },
    {
      "cell_type": "markdown",
      "source": [
        "13"
      ],
      "metadata": {
        "id": "u3mhrXOtAi9K"
      }
    },
    {
      "cell_type": "code",
      "source": [
        "max_quantity_per_order = sales_data.groupby('order_id')['quantity'].sum().max()\n",
        "max_quantity_per_order"
      ],
      "metadata": {
        "colab": {
          "base_uri": "https://localhost:8080/"
        },
        "id": "WD0jsUGXAjfO",
        "outputId": "9a6b7009-e72b-4d1c-bca0-10f2b2e65eb5"
      },
      "execution_count": null,
      "outputs": [
        {
          "output_type": "execute_result",
          "data": {
            "text/plain": [
              "4"
            ]
          },
          "metadata": {},
          "execution_count": 70
        }
      ]
    },
    {
      "cell_type": "markdown",
      "source": [
        "14"
      ],
      "metadata": {
        "id": "Q8Z3k3T-AloN"
      }
    },
    {
      "cell_type": "code",
      "source": [
        "merged_data = sales_data.merge(products_data, on='product_id')\n",
        "\n",
        "average_price_per_manufacturer_per_category = merged_data.groupby(['manufacturer', 'category'])['price_per_unit'].mean()\n",
        "\n",
        "manufacturer_with_highest_average_price = average_price_per_manufacturer_per_category.groupby('manufacturer').mean().idxmax()\n",
        "manufacturer_with_highest_average_price"
      ],
      "metadata": {
        "colab": {
          "base_uri": "https://localhost:8080/",
          "height": 35
        },
        "id": "e74xtK4ZAmOx",
        "outputId": "91070413-e187-4899-8d3f-75f04231b648"
      },
      "execution_count": null,
      "outputs": [
        {
          "output_type": "execute_result",
          "data": {
            "text/plain": [
              "'E'"
            ],
            "application/vnd.google.colaboratory.intrinsic+json": {
              "type": "string"
            }
          },
          "metadata": {},
          "execution_count": 71
        }
      ]
    },
    {
      "cell_type": "markdown",
      "source": [
        "15"
      ],
      "metadata": {
        "id": "zq0tkCziAoKo"
      }
    },
    {
      "cell_type": "code",
      "source": [
        "merged_data = sales_data.merge(products_data, on='product_id')\n",
        "\n",
        "unique_regions_per_manufacturer = merged_data.groupby(['manufacturer', 'region'])['region'].nunique()\n",
        "\n",
        "manufacturers_with_products_in_multiple_regions = unique_regions_per_manufacturer.groupby('manufacturer').apply(lambda x: (len(x) <= 2))\n",
        "\n",
        "total_manufacturers_with_products_in_multiple_regions = manufacturers_with_products_in_multiple_regions.sum()\n",
        "total_manufacturers_with_products_in_multiple_regions"
      ],
      "metadata": {
        "colab": {
          "base_uri": "https://localhost:8080/"
        },
        "id": "kZtsDAUPAqL3",
        "outputId": "a8e65808-ecc6-4291-cdb2-13ff31e0bd6a"
      },
      "execution_count": null,
      "outputs": [
        {
          "output_type": "execute_result",
          "data": {
            "text/plain": [
              "0"
            ]
          },
          "metadata": {},
          "execution_count": 18
        }
      ]
    }
  ]
}